{
 "cells": [
  {
   "cell_type": "code",
   "execution_count": 2,
   "id": "6c1256ad",
   "metadata": {},
   "outputs": [],
   "source": [
    "# Importing libraries\n",
    "import numpy as np\n",
    "import pandas as pd\n",
    "\n",
    "import matplotlib.pyplot as plt\n",
    "import seaborn as sns\n"
   ]
  },
  {
   "cell_type": "code",
   "execution_count": 3,
   "id": "fec04cfb",
   "metadata": {},
   "outputs": [
    {
     "data": {
      "text/html": [
       "<div>\n",
       "<style scoped>\n",
       "    .dataframe tbody tr th:only-of-type {\n",
       "        vertical-align: middle;\n",
       "    }\n",
       "\n",
       "    .dataframe tbody tr th {\n",
       "        vertical-align: top;\n",
       "    }\n",
       "\n",
       "    .dataframe thead th {\n",
       "        text-align: right;\n",
       "    }\n",
       "</style>\n",
       "<table border=\"1\" class=\"dataframe\">\n",
       "  <thead>\n",
       "    <tr style=\"text-align: right;\">\n",
       "      <th></th>\n",
       "      <th>longitude</th>\n",
       "      <th>latitude</th>\n",
       "      <th>housing_median_age</th>\n",
       "      <th>total_rooms</th>\n",
       "      <th>total_bedrooms</th>\n",
       "      <th>population</th>\n",
       "      <th>households</th>\n",
       "      <th>median_income</th>\n",
       "      <th>median_house_value</th>\n",
       "    </tr>\n",
       "  </thead>\n",
       "  <tbody>\n",
       "    <tr>\n",
       "      <th>0</th>\n",
       "      <td>-122.23</td>\n",
       "      <td>37.88</td>\n",
       "      <td>41.0</td>\n",
       "      <td>880.0</td>\n",
       "      <td>129.0</td>\n",
       "      <td>322.0</td>\n",
       "      <td>126.0</td>\n",
       "      <td>8.3252</td>\n",
       "      <td>452600.0</td>\n",
       "    </tr>\n",
       "    <tr>\n",
       "      <th>1</th>\n",
       "      <td>-122.22</td>\n",
       "      <td>37.86</td>\n",
       "      <td>21.0</td>\n",
       "      <td>7099.0</td>\n",
       "      <td>1106.0</td>\n",
       "      <td>2401.0</td>\n",
       "      <td>1138.0</td>\n",
       "      <td>8.3014</td>\n",
       "      <td>358500.0</td>\n",
       "    </tr>\n",
       "    <tr>\n",
       "      <th>2</th>\n",
       "      <td>-122.24</td>\n",
       "      <td>37.85</td>\n",
       "      <td>52.0</td>\n",
       "      <td>1467.0</td>\n",
       "      <td>190.0</td>\n",
       "      <td>496.0</td>\n",
       "      <td>177.0</td>\n",
       "      <td>7.2574</td>\n",
       "      <td>352100.0</td>\n",
       "    </tr>\n",
       "    <tr>\n",
       "      <th>3</th>\n",
       "      <td>-122.25</td>\n",
       "      <td>37.85</td>\n",
       "      <td>52.0</td>\n",
       "      <td>1274.0</td>\n",
       "      <td>235.0</td>\n",
       "      <td>558.0</td>\n",
       "      <td>219.0</td>\n",
       "      <td>5.6431</td>\n",
       "      <td>341300.0</td>\n",
       "    </tr>\n",
       "    <tr>\n",
       "      <th>4</th>\n",
       "      <td>-122.25</td>\n",
       "      <td>37.85</td>\n",
       "      <td>52.0</td>\n",
       "      <td>1627.0</td>\n",
       "      <td>280.0</td>\n",
       "      <td>565.0</td>\n",
       "      <td>259.0</td>\n",
       "      <td>3.8462</td>\n",
       "      <td>342200.0</td>\n",
       "    </tr>\n",
       "  </tbody>\n",
       "</table>\n",
       "</div>"
      ],
      "text/plain": [
       "   longitude  latitude  housing_median_age  total_rooms  total_bedrooms  \\\n",
       "0    -122.23     37.88                41.0        880.0           129.0   \n",
       "1    -122.22     37.86                21.0       7099.0          1106.0   \n",
       "2    -122.24     37.85                52.0       1467.0           190.0   \n",
       "3    -122.25     37.85                52.0       1274.0           235.0   \n",
       "4    -122.25     37.85                52.0       1627.0           280.0   \n",
       "\n",
       "   population  households  median_income  median_house_value  \n",
       "0       322.0       126.0         8.3252            452600.0  \n",
       "1      2401.0      1138.0         8.3014            358500.0  \n",
       "2       496.0       177.0         7.2574            352100.0  \n",
       "3       558.0       219.0         5.6431            341300.0  \n",
       "4       565.0       259.0         3.8462            342200.0  "
      ]
     },
     "execution_count": 3,
     "metadata": {},
     "output_type": "execute_result"
    }
   ],
   "source": [
    " # load data set\n",
    "usecols = ['latitude', 'longitude', 'housing_median_age', 'total_rooms', 'total_bedrooms', 'population', 'households', 'median_income', 'median_house_value']\n",
    "california_housing = pd.read_csv(\"https://raw.githubusercontent.com/alexeygrigorev/datasets/master/housing.csv\", usecols=usecols)\n",
    "california_housing.head()"
   ]
  },
  {
   "cell_type": "markdown",
   "id": "8c18edfa",
   "metadata": {},
   "source": [
    "QUESTION 1: Find a feature with missing values. How many missing values does it have?\n"
   ]
  },
  {
   "cell_type": "code",
   "execution_count": 4,
   "id": "2669c487",
   "metadata": {},
   "outputs": [
    {
     "name": "stdout",
     "output_type": "stream",
     "text": [
      "<class 'pandas.core.frame.DataFrame'>\n",
      "RangeIndex: 20640 entries, 0 to 20639\n",
      "Data columns (total 9 columns):\n",
      " #   Column              Non-Null Count  Dtype  \n",
      "---  ------              --------------  -----  \n",
      " 0   longitude           20640 non-null  float64\n",
      " 1   latitude            20640 non-null  float64\n",
      " 2   housing_median_age  20640 non-null  float64\n",
      " 3   total_rooms         20640 non-null  float64\n",
      " 4   total_bedrooms      20433 non-null  float64\n",
      " 5   population          20640 non-null  float64\n",
      " 6   households          20640 non-null  float64\n",
      " 7   median_income       20640 non-null  float64\n",
      " 8   median_house_value  20640 non-null  float64\n",
      "dtypes: float64(9)\n",
      "memory usage: 1.4 MB\n"
     ]
    }
   ],
   "source": [
    "california_housing.info()"
   ]
  },
  {
   "cell_type": "code",
   "execution_count": 5,
   "id": "f58f7958",
   "metadata": {},
   "outputs": [
    {
     "name": "stdout",
     "output_type": "stream",
     "text": [
      "total_bedrooms    207\n",
      "dtype: int64\n"
     ]
    }
   ],
   "source": [
    "incomplete = california_housing.isnull().sum()\n",
    "print(incomplete[incomplete > 0])"
   ]
  },
  {
   "cell_type": "markdown",
   "id": "44e49019",
   "metadata": {},
   "source": [
    "total_bedrooms is the missing feature with 207 values"
   ]
  },
  {
   "cell_type": "markdown",
   "id": "615ea984",
   "metadata": {},
   "source": [
    "Question 2: What's the median (50% percentile) for variable 'population'?"
   ]
  },
  {
   "cell_type": "code",
   "execution_count": 6,
   "id": "140e40d2",
   "metadata": {},
   "outputs": [
    {
     "data": {
      "text/plain": [
       "1166.0"
      ]
     },
     "execution_count": 6,
     "metadata": {},
     "output_type": "execute_result"
    }
   ],
   "source": [
    "california_housing.population.median()"
   ]
  },
  {
   "cell_type": "markdown",
   "id": "824b6866",
   "metadata": {},
   "source": [
    "1166 is the median"
   ]
  },
  {
   "cell_type": "code",
   "execution_count": 7,
   "id": "2f45e9bc",
   "metadata": {},
   "outputs": [
    {
     "data": {
      "text/plain": [
       "['longitude',\n",
       " 'latitude',\n",
       " 'housing_median_age',\n",
       " 'total_rooms',\n",
       " 'total_bedrooms',\n",
       " 'population',\n",
       " 'households',\n",
       " 'median_income',\n",
       " 'median_house_value']"
      ]
     },
     "execution_count": 7,
     "metadata": {},
     "output_type": "execute_result"
    }
   ],
   "source": [
    "list(california_housing.columns)"
   ]
  },
  {
   "cell_type": "code",
   "execution_count": 8,
   "id": "f6245cc2",
   "metadata": {},
   "outputs": [
    {
     "data": {
      "text/plain": [
       "20640"
      ]
     },
     "execution_count": 8,
     "metadata": {},
     "output_type": "execute_result"
    }
   ],
   "source": [
    "# Shuffle the data\n",
    "np.random.seed(42)\n",
    "n = len(california_housing)\n",
    "n"
   ]
  },
  {
   "cell_type": "code",
   "execution_count": 9,
   "id": "59c03491",
   "metadata": {},
   "outputs": [
    {
     "data": {
      "text/plain": [
       "array([    0,     1,     2, ..., 20637, 20638, 20639])"
      ]
     },
     "execution_count": 9,
     "metadata": {},
     "output_type": "execute_result"
    }
   ],
   "source": [
    "idx = np.arange(n)\n",
    "idx"
   ]
  },
  {
   "cell_type": "code",
   "execution_count": 10,
   "id": "de71dbd8",
   "metadata": {},
   "outputs": [],
   "source": [
    "np.random.shuffle(idx)"
   ]
  },
  {
   "cell_type": "code",
   "execution_count": 11,
   "id": "10067c79",
   "metadata": {},
   "outputs": [],
   "source": [
    "# add idx to data\n",
    "california_housing[\"idx\"] = idx\n",
    "\n",
    "california_housing = california_housing.sort_values(by=\"idx\", ascending=True)\n",
    "california_housing = california_housing.drop(columns='idx')\n",
    "california_housing = california_housing.reset_index(drop=True)\n"
   ]
  },
  {
   "cell_type": "code",
   "execution_count": 12,
   "id": "00edf778",
   "metadata": {},
   "outputs": [
    {
     "name": "stdout",
     "output_type": "stream",
     "text": [
      "total number of records in dataset = 20640\n",
      "split dataset: \n",
      "\t train = 12384 \n",
      "\t val = 4128 \n",
      "\t test = 4128\n"
     ]
    }
   ],
   "source": [
    "# calculating the number of records in each part:\n",
    "\n",
    "n_val = int(0.2 * n)\n",
    "n_test = int(0.2 * n)\n",
    "n_train = n - (n_val + n_test)\n",
    "\n",
    "print(f\"total number of records in dataset = {n}\")\n",
    "print(f\"split dataset: \\n\\t train = {n_train} \\n\\t val = {n_val} \\n\\t test = {n_test}\")"
   ]
  },
  {
   "cell_type": "code",
   "execution_count": 13,
   "id": "3f381da3",
   "metadata": {},
   "outputs": [
    {
     "name": "stdout",
     "output_type": "stream",
     "text": [
      "length of training set = 12384\n",
      "length of validation set = 4128\n",
      "length of test set = 4128\n"
     ]
    }
   ],
   "source": [
    "# splitting the data into training, validation and test sets:\n",
    "\n",
    "california_housing_train = california_housing.iloc[:n_train]\n",
    "california_housing_val = california_housing.iloc[n_train : n_train + n_val]\n",
    "california_housing_test = california_housing.iloc[n_train + n_val :]\n",
    "\n",
    "print(f\"length of training set = {len(california_housing_train)}\")\n",
    "print(f\"length of validation set = {len(california_housing_val)}\")\n",
    "print(f\"length of test set = {len(california_housing_test)}\")"
   ]
  },
  {
   "cell_type": "code",
   "execution_count": 14,
   "id": "dab65e5f",
   "metadata": {},
   "outputs": [],
   "source": [
    "# log1p transformation to [y] and separating features from the target variable :\n",
    "\n",
    "y_train = np.log1p(np.array(california_housing_train.median_house_value.values))\n",
    "y_val = np.log1p(np.array(california_housing_val.median_house_value.values))\n",
    "y_test = np.log1p(np.array(california_housing_test.median_house_value.values))\n",
    "\n",
    "california_housing_train_f = california_housing_train.drop(columns=[\"median_house_value\"])\n",
    "california_housing_val_f = california_housing_val.drop(columns=[\"median_house_value\"])\n",
    "california_housing_testf_f = california_housing_test.drop(columns=[\"median_house_value\"])"
   ]
  },
  {
   "cell_type": "code",
   "execution_count": 15,
   "id": "2973a1f7",
   "metadata": {},
   "outputs": [],
   "source": [
    "def prepare_X_null(california_housing):\n",
    "    #  function to prepare dataset with 0\n",
    "    california_housing = california_housing.copy()\n",
    "    california_housing = california_housing.fillna(0)\n",
    "    X = california_housing.values\n",
    "    return X\n",
    "\n",
    "\n",
    "def prepare_X_mean(california_housing):\n",
    "    # function to prepare dataset with mean\n",
    "    california_housing = california_housing.copy()\n",
    "    mean = california_housing.total_bedrooms.mean()\n",
    "    california_housing.total_bedrooms = california_housing.total_bedrooms.fillna(mean)\n",
    "    X = california_housing.values\n",
    "    return X\n"
   ]
  },
  {
   "cell_type": "code",
   "execution_count": 18,
   "id": "2f655971",
   "metadata": {},
   "outputs": [
    {
     "name": "stdout",
     "output_type": "stream",
     "text": [
      "RMSE score for option_null = 0.34\n",
      "RMSE score for option_mean = 0.34\n",
      "\n",
      "Answer to question 3:\n",
      "Both are equally good\n"
     ]
    }
   ],
   "source": [
    "def train_linear_regression(x_train, y_train):\n",
    "    # function to train the Linear Regression model\n",
    "    ones = np.ones(x_train.shape[0])\n",
    "    x_train = np.column_stack([ones, x_train])\n",
    "\n",
    "    XTX = x_train.T.dot(x_train)\n",
    "    XTX_inv = np.linalg.inv(XTX)\n",
    "\n",
    "    w_full = XTX_inv.dot(x_train.T).dot(y_train)\n",
    "    w0 = w_full[0]\n",
    "    w = w_full[1:]\n",
    "\n",
    "    return w0, w\n",
    "\n",
    "\n",
    "def predict_linear_regression(x_val, w0, w_array):\n",
    "    # function for marking predictions:\n",
    "    y_pred = w0 + x_val.dot(w_array)\n",
    "    return y_pred\n",
    "\n",
    "\n",
    "def rmse(y_pred, y_val):\n",
    "    # function to calculate RMSE:\n",
    "    SE = (y_pred - y_val) ** 2\n",
    "    MSE = SE.mean()\n",
    "    RMSE = np.sqrt(MSE)\n",
    "    return RMSE\n",
    "\n",
    "x_train_0 = prepare_X_null(california_housing_train_f)\n",
    "x_train_mean = prepare_X_mean(california_housing_train_f)\n",
    "\n",
    "\n",
    "x_null_val = prepare_X_null(california_housing_val_f)\n",
    "x_mean_val = prepare_X_mean(california_housing_val_f)\n",
    "\n",
    "\n",
    "\n",
    "w0_null, w_null = train_linear_regression(x_train_0, y_train)\n",
    "w0_mean, w_mean = train_linear_regression(x_train_mean, y_train)\n",
    "\n",
    "\n",
    "y_null_pred = predict_linear_regression(x_null_val, w0_null, w_null)\n",
    "y_mean_pred = predict_linear_regression(x_mean_val, w0_mean, w_mean)\n",
    "\n",
    "\n",
    "rmse_option_null = rmse(y_null_pred, y_val)\n",
    "rmse_option_mean = rmse(y_mean_pred, y_val)\n",
    "\n",
    "\n",
    "\n",
    "print(f\"RMSE score for option_null = {round(rmse_option_null, 2)}\")\n",
    "print(f\"RMSE score for option_mean = {round(rmse_option_mean, 2)}\")\n",
    "\n",
    "print(f\"\\nAnswer to question 3:\")\n",
    "print(f\"Both are equally good\")"
   ]
  },
  {
   "cell_type": "code",
   "execution_count": 19,
   "id": "3febb0d8",
   "metadata": {},
   "outputs": [
    {
     "name": "stdout",
     "output_type": "stream",
     "text": [
      "For r =       0 RMSE_score = 0.34\n",
      "For r =   1e-06 RMSE_score = 0.34\n",
      "For r =  0.0001 RMSE_score = 0.34\n",
      "For r =   0.001 RMSE_score = 0.34\n",
      "For r =    0.01 RMSE_score = 0.34\n",
      "For r =     0.1 RMSE_score = 0.34\n",
      "For r =       1 RMSE_score = 0.34\n",
      "For r =       5 RMSE_score = 0.35\n",
      "For r =      10 RMSE_score = 0.35\n",
      "\n",
      "Answer to question 4:\n",
      "\tRegularization does not give evident results. \n",
      "\tThe smallest r with the same RMSE is 0\n"
     ]
    }
   ],
   "source": [
    "def train_linear_regression_reg(x_train, y_train, r=0):\n",
    "    # function for Linear Regression model training with Regularization\n",
    "    ones = np.ones(x_train.shape[0])\n",
    "    x_train = np.column_stack([ones, x_train])\n",
    "\n",
    "    XTX = x_train.T.dot(x_train)\n",
    "    reg = r * np.eye(XTX.shape[0])\n",
    "    XTX = XTX + reg\n",
    "\n",
    "    XTX_inv = np.linalg.inv(XTX)\n",
    "\n",
    "    w_full = XTX_inv.dot(x_train.T).dot(y_train)\n",
    "\n",
    "    w0 = w_full[0]\n",
    "    w = w_full[1:]\n",
    "\n",
    "    return w0, w\n",
    "\n",
    "\n",
    "r_list = [0, 0.000001, 0.0001, 0.001, 0.01, 0.1, 1, 5, 10]\n",
    "\n",
    "x_train = prepare_X_null(california_housing_train_f)\n",
    "x_val = prepare_X_null(california_housing_val_f)\n",
    "\n",
    "for r in r_list:\n",
    "\n",
    "    w0, w = train_linear_regression_reg(x_train, y_train, r=r)\n",
    "    y_pred = predict_linear_regression(x_val, w0, w)\n",
    "\n",
    "    rmse_score = rmse(y_val, y_pred)\n",
    "    print(f\"For r = {r:>7} RMSE_score = {round(rmse_score, 2)}\")\n",
    "\n",
    "print(f\"\\nAnswer to question 4:\")\n",
    "print(\n",
    "    f\"\\tRegularization does not give evident results. \\n\\tThe smallest r with the same RMSE is 0\"\n",
    ")"
   ]
  },
  {
   "cell_type": "code",
   "execution_count": 25,
   "id": "7735161a",
   "metadata": {},
   "outputs": [
    {
     "name": "stdout",
     "output_type": "stream",
     "text": [
      "For Seed = 0, RMSE = 0.3398944153262685\n",
      "For Seed = 1, RMSE = 0.3424516674111378\n",
      "For Seed = 2, RMSE = 0.3504073622301258\n",
      "For Seed = 3, RMSE = 0.34191333918962197\n",
      "For Seed = 4, RMSE = 0.3332498184122541\n",
      "For Seed = 5, RMSE = 0.3457116072329894\n",
      "For Seed = 6, RMSE = 0.33694402533528683\n",
      "For Seed = 7, RMSE = 0.3435425039621229\n",
      "For Seed = 8, RMSE = 0.3502354582745941\n",
      "For Seed = 9, RMSE = 0.34504168627548826\n"
     ]
    }
   ],
   "source": [
    "def rmse_random_seed(california_housing, random_seed):\n",
    "    california_housing = california_housing.copy()\n",
    "    n = len(california_housing)\n",
    "    idx = np.arange(n)\n",
    "    np.random.seed(random_seed)\n",
    "    np.random.shuffle(idx)\n",
    "\n",
    "    california_housing[\"idx\"] = idx\n",
    "    california_housing = california_housing.sort_values(by=\"idx\", ascending=True)\n",
    "    california_housing = california_housing.drop(columns=[\"idx\"])\n",
    "    california_housing = california_housing.reset_index(drop=True)\n",
    "\n",
    "    n_val = int(0.2 * n)\n",
    "    n_test = int(0.2 * n)\n",
    "    n_train = n - (n_val + n_test)\n",
    "    california_housing_train = california_housing.iloc[:n_train]\n",
    "    california_housing_val = california_housing.iloc[n_train : n_train + n_val]\n",
    "    california_housing_test = california_housing.iloc[n_train + n_val :]\n",
    "\n",
    "    y_train = np.log1p(np.array(california_housing_train.median_house_value.values))\n",
    "    y_val = np.log1p(np.array(california_housing_val.median_house_value.values))\n",
    "\n",
    "    california_housing_train_f = california_housing_train.drop(columns=[\"median_house_value\"])\n",
    "    california_housing_val_f = california_housing_val.drop(columns=[\"median_house_value\"])\n",
    "    \n",
    "    x_train = prepare_X_null(california_housing_train_f)\n",
    "    w0, w = train_linear_regression(x_train, y_train)\n",
    "    \n",
    "    x_val = prepare_X_null(california_housing_val_f)\n",
    "    y_pred = predict_linear_regression(x_val, w0, w)\n",
    "    \n",
    "    rmse_score = rmse(y_pred, y_val)\n",
    "    return rmse_score\n",
    "\n",
    "\n",
    "rmse_scores_list = []\n",
    "s = [0, 1, 2, 3, 4, 5, 6, 7, 8, 9]\n",
    "\n",
    "for seed in s:\n",
    "    rmse_score = rmse_random_seed(california_housing, seed)\n",
    "    rmse_scores_list.append(rmse_score)\n",
    "\n",
    "    print(f\"For Seed = {seed}, RMSE = {rmse_score}\")"
   ]
  },
  {
   "cell_type": "code",
   "execution_count": 26,
   "id": "abd6c8cd",
   "metadata": {},
   "outputs": [
    {
     "name": "stdout",
     "output_type": "stream",
     "text": [
      "\n",
      "Answer to question 5:\n",
      "Result of standard deviation of all rmse score = 0.005\n"
     ]
    }
   ],
   "source": [
    "# calculating the standard deviation of rmse results for different data splits:\n",
    "\n",
    "standard_deviation = round(np.std(rmse_scores_list), 3)\n",
    "\n",
    "print(f\"\\nAnswer to question 5:\")\n",
    "print(f\"Result of standard deviation of all rmse score = {standard_deviation}\")"
   ]
  },
  {
   "cell_type": "code",
   "execution_count": 29,
   "id": "3a3c3afd",
   "metadata": {},
   "outputs": [
    {
     "name": "stdout",
     "output_type": "stream",
     "text": [
      "\n",
      "Answer to question 6:\n",
      "RMSE on combine dataset = 0.33\n",
      "\n",
      "Answer to question 6:\n",
      "RMSE on combine dataset = 0.33\n"
     ]
    }
   ],
   "source": [
    "n = len(california_housing)\n",
    "idx = np.arange(n)\n",
    "np.random.seed(9)\n",
    "np.random.shuffle(idx)\n",
    "\n",
    "california_housing[\"idx\"] = idx\n",
    "california_housing = california_housing.sort_values(by=\"idx\", ascending=True)\n",
    "california_housing = california_housing.drop(columns=[\"idx\"])\n",
    "california_housing = california_housing.reset_index(drop=True)\n",
    "\n",
    "n_val = int(0.2 * n)\n",
    "n_test = int(0.2 * n)\n",
    "n_train = n - (n_val + n_test)\n",
    "california_housing_train = california_housing.iloc[:n_train]\n",
    "california_housing_val = california_housing.iloc[n_train : n_train + n_val]\n",
    "california_housing_test = california_housing.iloc[n_train + n_val :]\n",
    "\n",
    "\n",
    "y_train = np.log1p(np.array(california_housing_train.median_house_value.values))\n",
    "y_val = np.log1p(np.array(california_housing_val.median_house_value.values))\n",
    "y_test = np.log1p(np.array(california_housing_test.median_house_value.values))\n",
    "\n",
    "california_housing_train_f = california_housing_train.drop(columns=[\"median_house_value\"])\n",
    "california_housing_val_f = california_housing_val.drop(columns=[\"median_house_value\"])\n",
    "california_housing_test_f = california_housing_test.drop(columns=[\"median_house_value\"])\n",
    "\n",
    "\n",
    "california_housing_train_val = pd.concat([california_housing_train_f, california_housing_val_f])\n",
    "y_train_val = np.concatenate([y_train, y_val])\n",
    "\n",
    "x_train_val = prepare_X_null(california_housing_train_val)\n",
    "w0, w = train_linear_regression_reg(x_train_val, y_train_val, r=0.001)\n",
    "\n",
    "x_test = prepare_X_null(california_housing_test_f)\n",
    "y_pred = predict_linear_regression(x_test, w0, w)\n",
    "\n",
    "rmse_score = rmse(y_pred, y_test)\n",
    "\n",
    "print(f\"\\nAnswer to question 6:\")\n",
    "print(f\"RMSE on combine dataset = {round(rmse_score, 2)}\")\n",
    "\n",
    "n = len(california_housing)\n",
    "idx = np.arange(n)\n",
    "np.random.seed(9)\n",
    "np.random.shuffle(idx)\n",
    "\n",
    "california_housing[\"idx\"] = idx\n",
    "california_housing = california_housing.sort_values(by=\"idx\", ascending=True)\n",
    "california_housing = california_housing.drop(columns=[\"idx\"])\n",
    "california_housing = california_housing.reset_index(drop=True)\n",
    "\n",
    "n_val = int(0.2 * n)\n",
    "n_test = int(0.2 * n)\n",
    "n_train = n - (n_val + n_test)\n",
    "california_housing_train = california_housing.iloc[:n_train]\n",
    "california_housing_val = california_housing.iloc[n_train : n_train + n_val]\n",
    "california_housing_test = california_housing.iloc[n_train + n_val :]\n",
    "\n",
    "y_train = np.log1p(np.array(california_housing_train.median_house_value.values))\n",
    "y_val = np.log1p(np.array(california_housing_val.median_house_value.values))\n",
    "y_test = np.log1p(np.array(california_housing_test.median_house_value.values))\n",
    "\n",
    "california_housing_train_f = california_housing_train.drop(columns=[\"median_house_value\"])\n",
    "california_housing_val_f = california_housing_val.drop(columns=[\"median_house_value\"])\n",
    "california_housing_test_f = california_housing_test.drop(columns=[\"median_house_value\"])\n",
    "\n",
    "\n",
    "california_housing_train_val = pd.concat([california_housing_train_f, california_housing_val_f])\n",
    "y_train_val = np.concatenate([y_train, y_val])\n",
    "\n",
    "x_train_val = prepare_X_null(california_housing_train_val)\n",
    "w0, w = train_linear_regression_reg(x_train_val, y_train_val, r=0.001)\n",
    "\n",
    "x_test = prepare_X_null(california_housing_test_f)\n",
    "y_pred = predict_linear_regression(x_test, w0, w)\n",
    "\n",
    "rmse_score = rmse(y_pred, y_test)\n",
    "\n",
    "print(f\"\\nAnswer to question 6:\")\n",
    "print(f\"RMSE on combine dataset = {round(rmse_score, 2)}\")"
   ]
  },
  {
   "cell_type": "code",
   "execution_count": null,
   "id": "14586987",
   "metadata": {},
   "outputs": [],
   "source": []
  }
 ],
 "metadata": {
  "kernelspec": {
   "display_name": "Python 3 (ipykernel)",
   "language": "python",
   "name": "python3"
  },
  "language_info": {
   "codemirror_mode": {
    "name": "ipython",
    "version": 3
   },
   "file_extension": ".py",
   "mimetype": "text/x-python",
   "name": "python",
   "nbconvert_exporter": "python",
   "pygments_lexer": "ipython3",
   "version": "3.8.12"
  }
 },
 "nbformat": 4,
 "nbformat_minor": 5
}
